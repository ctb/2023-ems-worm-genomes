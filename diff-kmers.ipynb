{
 "cells": [
  {
   "cell_type": "code",
   "execution_count": 1,
   "id": "e65a380b",
   "metadata": {},
   "outputs": [],
   "source": [
    "import sourmash\n",
    "from collections import Counter"
   ]
  },
  {
   "cell_type": "code",
   "execution_count": 2,
   "id": "4e9bc82b",
   "metadata": {},
   "outputs": [
    {
     "name": "stdout",
     "output_type": "stream",
     "text": [
      "159562607389840577.release1.extents.fa\r\n",
      "159562607389840577.release2.extents.fa\r\n",
      "159562607389840577.release3.extents.fa\r\n",
      "74457073119032237.release1.extents.fa\r\n",
      "74457073119032237.release2.extents.fa\r\n",
      "74457073119032237.release3.extents.fa\r\n",
      "81038444938869519.release1.extents.fa\r\n",
      "81038444938869519.release2.extents.fa\r\n",
      "81038444938869519.release3.extents.fa\r\n",
      "Snakefile\r\n",
      "VC2010_2.0_Dec2022.fasta.gz\r\n",
      "VC2010_2.0_Dec2022.fasta.gz.sig\r\n",
      "c_elegans.PRJEB28388.WS287.genomic.fa.gz\r\n",
      "c_elegans.PRJEB28388.WS287.genomic.fa.gz.sig\r\n",
      "c_elegans.PRJNA13758.WS287.genomic.fa.gz\r\n",
      "c_elegans.PRJNA13758.WS287.genomic.fa.gz.sig\r\n",
      "diff-kmers.ipynb\r\n",
      "extract-max-extent-around-hashes.py*\r\n",
      "extreme-159562607389840577.sig\r\n",
      "extreme-74457073119032237.sig\r\n",
      "extreme-81038444938869519.sig\r\n",
      "extreme.sig\r\n",
      "out.csv\r\n"
     ]
    }
   ],
   "source": [
    "ls"
   ]
  },
  {
   "cell_type": "code",
   "execution_count": 3,
   "id": "3d25b4c7",
   "metadata": {},
   "outputs": [],
   "source": [
    "ksize=31\n",
    "\n",
    "sig_1 = sourmash.load_one_signature('c_elegans.PRJNA13758.WS287.genomic.fa.gz.sig', ksize=ksize)\n",
    "sig_2 = sourmash.load_one_signature('c_elegans.PRJEB28388.WS287.genomic.fa.gz.sig', ksize=ksize)\n",
    "sig_3 = sourmash.load_one_signature('VC2010_2.0_Dec2022.fasta.gz.sig', ksize=ksize)\n",
    "\n",
    "assert sig_1.minhash.track_abundance\n",
    "assert sig_2.minhash.track_abundance\n",
    "assert sig_3.minhash.track_abundance\n",
    "\n",
    "scaled = sig_1.minhash.scaled\n",
    "assert sig_2.minhash.scaled == scaled\n",
    "assert sig_3.minhash.scaled == scaled"
   ]
  },
  {
   "cell_type": "code",
   "execution_count": 4,
   "id": "6fe6b9b5",
   "metadata": {},
   "outputs": [
    {
     "data": {
      "text/plain": [
       "939374"
      ]
     },
     "execution_count": 4,
     "metadata": {},
     "output_type": "execute_result"
    }
   ],
   "source": [
    "mh = sig_1.minhash\n",
    "len(mh)\n"
   ]
  },
  {
   "cell_type": "code",
   "execution_count": 5,
   "id": "e8b5bae3",
   "metadata": {},
   "outputs": [],
   "source": [
    "def find_diff_abund(mh1, mh2):\n",
    "    in_1_only = {}\n",
    "    diff_abund_1 = {}\n",
    "    \n",
    "    h1 = mh1.hashes\n",
    "    h2 = mh2.hashes\n",
    "\n",
    "    n = 0\n",
    "    for k, abund1 in h1.items():\n",
    "        if n % 10000 == 0:\n",
    "            print('...', n)\n",
    "        if k in h2:\n",
    "            abund2 = h2[k]\n",
    "            if abund1 != abund2:\n",
    "                diff_abund_1[k] = abund1 - abund2\n",
    "        else:\n",
    "            in_1_only[k] = abund1\n",
    "            \n",
    "        n += 1\n",
    "\n",
    "    return in_1_only, diff_abund_1\n",
    "\n"
   ]
  },
  {
   "cell_type": "code",
   "execution_count": 17,
   "id": "ffaa358d",
   "metadata": {},
   "outputs": [
    {
     "name": "stdout",
     "output_type": "stream",
     "text": [
      "... 0\n",
      "... 10000\n",
      "... 20000\n",
      "... 30000\n",
      "... 40000\n",
      "... 50000\n",
      "... 60000\n",
      "... 70000\n",
      "... 80000\n",
      "... 90000\n",
      "... 100000\n",
      "... 110000\n",
      "... 120000\n",
      "... 130000\n",
      "... 140000\n",
      "... 150000\n",
      "... 160000\n",
      "... 170000\n",
      "... 180000\n",
      "... 190000\n",
      "... 200000\n",
      "... 210000\n",
      "... 220000\n",
      "... 230000\n",
      "... 240000\n",
      "... 250000\n",
      "... 260000\n",
      "... 270000\n",
      "... 280000\n",
      "... 290000\n",
      "... 300000\n",
      "... 310000\n",
      "... 320000\n",
      "... 330000\n",
      "... 340000\n",
      "... 350000\n",
      "... 360000\n",
      "... 370000\n",
      "... 380000\n",
      "... 390000\n",
      "... 400000\n",
      "... 410000\n",
      "... 420000\n",
      "... 430000\n",
      "... 440000\n",
      "... 450000\n",
      "... 460000\n",
      "... 470000\n",
      "... 480000\n",
      "... 490000\n",
      "... 500000\n",
      "... 510000\n",
      "... 520000\n",
      "... 530000\n",
      "... 540000\n",
      "... 550000\n",
      "... 560000\n",
      "... 570000\n",
      "... 580000\n",
      "... 590000\n",
      "... 600000\n",
      "... 610000\n",
      "... 620000\n",
      "... 630000\n",
      "... 640000\n",
      "... 650000\n",
      "... 660000\n",
      "... 670000\n",
      "... 680000\n",
      "... 690000\n",
      "... 700000\n",
      "... 710000\n",
      "... 720000\n",
      "... 730000\n",
      "... 740000\n",
      "... 750000\n",
      "... 760000\n",
      "... 770000\n",
      "... 780000\n",
      "... 790000\n",
      "... 800000\n",
      "... 810000\n",
      "... 820000\n",
      "... 830000\n",
      "... 840000\n",
      "... 850000\n",
      "... 860000\n",
      "... 870000\n",
      "... 880000\n",
      "... 890000\n",
      "... 900000\n",
      "... 910000\n",
      "... 920000\n",
      "... 930000\n",
      "... 940000\n",
      "... 0\n",
      "... 10000\n",
      "... 20000\n",
      "... 30000\n",
      "... 40000\n",
      "... 50000\n",
      "... 60000\n",
      "... 70000\n",
      "... 80000\n",
      "... 90000\n",
      "... 100000\n",
      "... 110000\n",
      "... 120000\n",
      "... 130000\n",
      "... 140000\n",
      "... 150000\n",
      "... 160000\n",
      "... 170000\n",
      "... 180000\n",
      "... 190000\n",
      "... 200000\n",
      "... 210000\n",
      "... 220000\n",
      "... 230000\n",
      "... 240000\n",
      "... 250000\n",
      "... 260000\n",
      "... 270000\n",
      "... 280000\n",
      "... 290000\n",
      "... 300000\n",
      "... 310000\n",
      "... 320000\n",
      "... 330000\n",
      "... 340000\n",
      "... 350000\n",
      "... 360000\n",
      "... 370000\n",
      "... 380000\n",
      "... 390000\n",
      "... 400000\n",
      "... 410000\n",
      "... 420000\n",
      "... 430000\n",
      "... 440000\n",
      "... 450000\n",
      "... 460000\n",
      "... 470000\n",
      "... 480000\n",
      "... 490000\n",
      "... 500000\n",
      "... 510000\n",
      "... 520000\n",
      "... 530000\n",
      "... 540000\n",
      "... 550000\n",
      "... 560000\n",
      "... 570000\n",
      "... 580000\n",
      "... 590000\n",
      "... 600000\n",
      "... 610000\n",
      "... 620000\n",
      "... 630000\n",
      "... 640000\n",
      "... 650000\n",
      "... 660000\n",
      "... 670000\n",
      "... 680000\n",
      "... 690000\n",
      "... 700000\n",
      "... 710000\n",
      "... 720000\n",
      "... 730000\n",
      "... 740000\n",
      "... 750000\n",
      "... 760000\n",
      "... 770000\n",
      "... 780000\n",
      "... 790000\n",
      "... 800000\n",
      "... 810000\n",
      "... 820000\n",
      "... 830000\n",
      "... 840000\n",
      "... 850000\n",
      "... 860000\n",
      "... 870000\n",
      "... 880000\n",
      "... 890000\n",
      "... 900000\n",
      "... 910000\n",
      "... 920000\n",
      "... 930000\n",
      "... 940000\n"
     ]
    }
   ],
   "source": [
    "in_3_only, diff_abund_3 = find_diff_abund(sig_3.minhash, sig_2.minhash)\n",
    "in_2_only, diff_abund_2 = find_diff_abund(sig_2.minhash, sig_3.minhash)"
   ]
  },
  {
   "cell_type": "markdown",
   "id": "26079d6f",
   "metadata": {},
   "source": [
    "## Estimates of differentially present k-mers"
   ]
  },
  {
   "cell_type": "code",
   "execution_count": 7,
   "id": "ab7dbe3c",
   "metadata": {},
   "outputs": [
    {
     "name": "stdout",
     "output_type": "stream",
     "text": [
      "There are 1711 hashes only present in #3 vs #2\n",
      "(Multiply by 100 to get a close estimate of # of k-mers.)\n"
     ]
    }
   ],
   "source": [
    "print(f\"There are {len(in_3_only)} hashes only present in #3 vs #2\")\n",
    "print(f\"(Multiply by {scaled} to get a close estimate of # of k-mers.)\")"
   ]
  },
  {
   "cell_type": "code",
   "execution_count": 18,
   "id": "714bd59e",
   "metadata": {},
   "outputs": [
    {
     "name": "stdout",
     "output_type": "stream",
     "text": [
      "There are 1849 hashes only present in #2 vs #3\n",
      "(Multiply by 100 to get a close estimate of # of k-mers.)\n"
     ]
    }
   ],
   "source": [
    "print(f\"There are {len(in_2_only)} hashes only present in #2 vs #3\")\n",
    "print(f\"(Multiply by {scaled} to get a close estimate of # of k-mers.)\")"
   ]
  },
  {
   "cell_type": "code",
   "execution_count": 8,
   "id": "5795b2a8",
   "metadata": {},
   "outputs": [
    {
     "name": "stdout",
     "output_type": "stream",
     "text": [
      "There are 1666 hashes present in #3 vs #2 that have different counts\n",
      "(Multiply by 100 to get a close estimate of # of k-mers.)\n"
     ]
    }
   ],
   "source": [
    "print(f\"There are {len(diff_abund_3)} hashes present in #3 vs #2 that have different counts\")\n",
    "print(f\"(Multiply by {scaled} to get a close estimate of # of k-mers.)\")"
   ]
  },
  {
   "cell_type": "markdown",
   "id": "70eef9ce",
   "metadata": {},
   "source": [
    "## K-mers absent in one or the other"
   ]
  },
  {
   "cell_type": "code",
   "execution_count": 16,
   "id": "c961e618",
   "metadata": {},
   "outputs": [],
   "source": [
    "mh = sig_3.minhash.copy_and_clear()\n",
    "for h, count in in_3_only.items():\n",
    "    mh.add_hash(h)\n",
    "        \n",
    "sig = sourmash.SourmashSignature(mh, 'in_3_only')\n",
    "with open('in_3_only.sig', 'wb') as fp:\n",
    "    sourmash.save_signatures([sig], fp, compression=1)"
   ]
  },
  {
   "cell_type": "code",
   "execution_count": 19,
   "id": "26d908d5",
   "metadata": {},
   "outputs": [],
   "source": [
    "mh = sig_3.minhash.copy_and_clear()\n",
    "for h, count in in_2_only.items():\n",
    "    mh.add_hash(h)\n",
    "        \n",
    "sig = sourmash.SourmashSignature(mh, 'in_2_only')\n",
    "with open('in_2_only.sig', 'wb') as fp:\n",
    "    sourmash.save_signatures([sig], fp, compression=1)"
   ]
  },
  {
   "cell_type": "markdown",
   "id": "ad82af9f",
   "metadata": {},
   "source": [
    "## Differentially abundant k-mer counts\n",
    "\n",
    "Here is the distribution of the differences in count number.\n",
    "\n",
    "For example, the output \"2 298\" means that there are 2 k-mers with a count difference of 298 more in #3 than in #2."
   ]
  },
  {
   "cell_type": "code",
   "execution_count": 9,
   "id": "8ca9018b",
   "metadata": {},
   "outputs": [],
   "source": [
    "c = Counter()\n",
    "for k, v in diff_abund_3.items():\n",
    "    c[v] += 1"
   ]
  },
  {
   "cell_type": "code",
   "execution_count": 10,
   "id": "a4a5cde9",
   "metadata": {
    "scrolled": false
   },
   "outputs": [
    {
     "name": "stdout",
     "output_type": "stream",
     "text": [
      "-1762 1\n",
      "-161 1\n",
      "-77 1\n",
      "-71 1\n",
      "-54 1\n",
      "-47 1\n",
      "-41 1\n",
      "-32 1\n",
      "-23 1\n",
      "-22 1\n",
      "-11 1\n",
      "-9 2\n",
      "-8 1\n",
      "-7 3\n",
      "-6 3\n",
      "-5 1\n",
      "-4 7\n",
      "-3 1\n",
      "-2 9\n",
      "-1 49\n",
      "1 749\n",
      "2 298\n",
      "3 84\n",
      "4 27\n",
      "5 22\n",
      "6 17\n",
      "7 39\n",
      "8 12\n",
      "9 10\n",
      "10 14\n",
      "11 11\n",
      "12 6\n",
      "13 1\n",
      "14 5\n",
      "15 4\n",
      "16 4\n",
      "17 9\n",
      "18 4\n",
      "19 4\n",
      "20 4\n",
      "21 5\n",
      "22 2\n",
      "23 3\n",
      "24 4\n",
      "25 5\n",
      "26 5\n",
      "27 3\n",
      "28 4\n",
      "29 3\n",
      "30 1\n",
      "31 4\n",
      "33 1\n",
      "34 4\n",
      "35 1\n",
      "36 1\n",
      "37 1\n",
      "38 2\n",
      "39 1\n",
      "40 4\n",
      "42 27\n",
      "43 58\n",
      "45 2\n",
      "48 1\n",
      "50 2\n",
      "51 1\n",
      "52 1\n",
      "53 2\n",
      "54 3\n",
      "55 1\n",
      "56 2\n",
      "57 1\n",
      "58 1\n",
      "59 2\n",
      "61 1\n",
      "62 1\n",
      "63 3\n",
      "65 1\n",
      "66 2\n",
      "68 2\n",
      "69 2\n",
      "70 1\n",
      "71 1\n",
      "72 1\n",
      "73 1\n",
      "75 3\n",
      "76 1\n",
      "77 3\n",
      "78 1\n",
      "79 2\n",
      "80 2\n",
      "85 2\n",
      "86 3\n",
      "95 1\n",
      "97 2\n",
      "102 2\n",
      "106 1\n",
      "114 1\n",
      "115 1\n",
      "119 1\n",
      "120 1\n",
      "125 1\n",
      "127 1\n",
      "129 1\n",
      "137 1\n",
      "139 1\n",
      "141 1\n",
      "144 1\n",
      "145 1\n",
      "146 1\n",
      "151 1\n",
      "158 1\n",
      "176 1\n",
      "178 1\n",
      "181 1\n",
      "182 1\n",
      "183 1\n",
      "184 1\n",
      "185 1\n",
      "192 1\n",
      "194 1\n",
      "202 1\n",
      "204 1\n",
      "207 1\n",
      "212 1\n",
      "223 1\n",
      "228 1\n",
      "229 1\n",
      "233 1\n",
      "237 1\n",
      "253 1\n",
      "275 1\n",
      "284 1\n",
      "285 1\n",
      "291 1\n",
      "298 1\n",
      "318 1\n",
      "367 1\n",
      "386 1\n",
      "425 1\n",
      "470 1\n",
      "524 1\n",
      "547 1\n",
      "602 1\n",
      "614 1\n",
      "645 1\n",
      "732 1\n",
      "737 1\n",
      "743 1\n",
      "769 1\n",
      "1120 1\n",
      "1155 1\n",
      "1358 1\n",
      "1561 1\n",
      "1714 1\n"
     ]
    }
   ],
   "source": [
    "keys = list(sorted(c.keys()))\n",
    "for k in keys:\n",
    "    print(k, c[k])"
   ]
  },
  {
   "cell_type": "code",
   "execution_count": 11,
   "id": "b7eac1f5",
   "metadata": {},
   "outputs": [
    {
     "data": {
      "text/plain": [
       "(8655532154131, 2)"
      ]
     },
     "execution_count": 11,
     "metadata": {},
     "output_type": "execute_result"
    }
   ],
   "source": [
    "list(diff_abund_3.items())[0]"
   ]
  },
  {
   "cell_type": "code",
   "execution_count": 12,
   "id": "e725e3a2",
   "metadata": {},
   "outputs": [
    {
     "name": "stdout",
     "output_type": "stream",
     "text": [
      "74457073119032237 -1762 2678 916\n",
      "81038444938869519 1561 56 1617\n",
      "159562607389840577 1714 1618 3332\n"
     ]
    }
   ],
   "source": [
    "for h, count in diff_abund_3.items():\n",
    "    if abs(count) > 1500:\n",
    "        print(h, count, sig_2.minhash.hashes[h], sig_3.minhash.hashes[h])"
   ]
  },
  {
   "cell_type": "code",
   "execution_count": 13,
   "id": "3daa83e2",
   "metadata": {},
   "outputs": [],
   "source": [
    "mh = sig_3.minhash.copy_and_clear()\n",
    "for h, count in diff_abund_3.items():\n",
    "    if abs(count) > 1500:\n",
    "        mh.add_hash(h)\n",
    "        \n",
    "sig = sourmash.SourmashSignature(mh, 'extreme')\n",
    "with open('extreme.sig', 'wb') as fp:\n",
    "    sourmash.save_signatures([sig], fp, compression=1)"
   ]
  },
  {
   "cell_type": "code",
   "execution_count": 14,
   "id": "90dacc2d",
   "metadata": {},
   "outputs": [],
   "source": [
    "for h, count in diff_abund_3.items():\n",
    "    if abs(count) > 1500:\n",
    "        mh = sig_3.minhash.copy_and_clear()\n",
    "        mh.add_hash(h)\n",
    "        \n",
    "        sig = sourmash.SourmashSignature(mh, f'{h}')\n",
    "        with open(f'extreme-{h}.sig', 'wb') as fp:\n",
    "            sourmash.save_signatures([sig], fp, compression=1)"
   ]
  },
  {
   "cell_type": "code",
   "execution_count": null,
   "id": "f77936a4",
   "metadata": {},
   "outputs": [],
   "source": []
  }
 ],
 "metadata": {
  "kernelspec": {
   "display_name": "py38arm",
   "language": "python",
   "name": "py38arm"
  },
  "language_info": {
   "codemirror_mode": {
    "name": "ipython",
    "version": 3
   },
   "file_extension": ".py",
   "mimetype": "text/x-python",
   "name": "python",
   "nbconvert_exporter": "python",
   "pygments_lexer": "ipython3",
   "version": "3.8.13"
  }
 },
 "nbformat": 4,
 "nbformat_minor": 5
}
