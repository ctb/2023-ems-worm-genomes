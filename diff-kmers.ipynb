{
 "cells": [
  {
   "cell_type": "code",
   "execution_count": 1,
   "id": "e65a380b",
   "metadata": {},
   "outputs": [],
   "source": [
    "import sourmash\n",
    "from collections import Counter"
   ]
  },
  {
   "cell_type": "code",
   "execution_count": 2,
   "id": "3d25b4c7",
   "metadata": {},
   "outputs": [],
   "source": [
    "ksize=31\n",
    "\n",
    "sig_1 = sourmash.load_one_signature('c_elegans.PRJNA13758.WS287.genomic.fa.gz.sig', ksize=ksize)\n",
    "sig_2 = sourmash.load_one_signature('c_elegans.PRJEB28388.WS287.genomic.fa.gz.sig', ksize=ksize)\n",
    "sig_3 = sourmash.load_one_signature('VC2010_2.0_Dec2022.fasta.gz.sig', ksize=ksize)\n",
    "\n",
    "assert sig_1.minhash.track_abundance\n",
    "assert sig_2.minhash.track_abundance\n",
    "assert sig_3.minhash.track_abundance\n",
    "\n",
    "scaled = sig_1.minhash.scaled\n",
    "assert sig_2.minhash.scaled == scaled\n",
    "assert sig_3.minhash.scaled == scaled"
   ]
  },
  {
   "cell_type": "code",
   "execution_count": 3,
   "id": "6fe6b9b5",
   "metadata": {},
   "outputs": [
    {
     "data": {
      "text/plain": [
       "939374"
      ]
     },
     "execution_count": 3,
     "metadata": {},
     "output_type": "execute_result"
    }
   ],
   "source": [
    "mh = sig_1.minhash\n",
    "len(mh)\n"
   ]
  },
  {
   "cell_type": "markdown",
   "id": "86b5cf9f",
   "metadata": {},
   "source": [
    "## Comparisons of release2 and release3\n",
    "\n",
    "Comparison of content, w/o consideration of abundance (i.e. flat k-mers)"
   ]
  },
  {
   "cell_type": "code",
   "execution_count": 19,
   "id": "2dd95cbb",
   "metadata": {},
   "outputs": [
    {
     "data": {
      "text/plain": [
       "0.9962250506065898"
      ]
     },
     "execution_count": 19,
     "metadata": {},
     "output_type": "execute_result"
    }
   ],
   "source": [
    "sig_2.minhash.jaccard(sig_3.minhash)"
   ]
  },
  {
   "cell_type": "code",
   "execution_count": 26,
   "id": "6aa0683c",
   "metadata": {},
   "outputs": [
    {
     "name": "stdout",
     "output_type": "stream",
     "text": [
      "There are 1711 hashes only in #3 and not in #2, out of 941210 hashes total.\n",
      "This means that about 0.18% of release 3 is unique!\n"
     ]
    }
   ],
   "source": [
    "diff_3_2 = set(sig_3.minhash.hashes) - set(sig_2.minhash.hashes)\n",
    "print(f\"There are {len(diff_3_2)} hashes only in #3 and not in #2, out of {len(sig_3.minhash)} hashes total.\")\n",
    "print(f\"This means that about {len(diff_3_2) / len(sig_3.minhash)*100:.2f}% of release 3 is unique!\")"
   ]
  },
  {
   "cell_type": "code",
   "execution_count": 30,
   "id": "5c00fc5d",
   "metadata": {},
   "outputs": [
    {
     "name": "stdout",
     "output_type": "stream",
     "text": [
      "There are 1849 hashes only in #2 and not in #3, out of 941348 hashes total.\n",
      "This means that about 0.20% of release 2 is unique.\n"
     ]
    }
   ],
   "source": [
    "diff_2_3 = set(sig_2.minhash.hashes) - set(sig_3.minhash.hashes)\n",
    "print(f\"There are {len(diff_2_3)} hashes only in #2 and not in #3, out of {len(sig_2.minhash)} hashes total.\")\n",
    "print(f\"This means that about {len(diff_2_3) / len(sig_2.minhash)*100:.2f}% of release 2 is unique.\")"
   ]
  },
  {
   "cell_type": "markdown",
   "id": "0182f047",
   "metadata": {},
   "source": [
    "## Differentially present / differentially abundant k-mers"
   ]
  },
  {
   "cell_type": "code",
   "execution_count": 4,
   "id": "e8b5bae3",
   "metadata": {},
   "outputs": [],
   "source": [
    "def find_diff_abund(mh1, mh2):\n",
    "    in_1_only = {}\n",
    "    diff_abund_1 = {}\n",
    "    \n",
    "    h1 = mh1.hashes\n",
    "    h2 = mh2.hashes\n",
    "\n",
    "    n = 0\n",
    "    for k, abund1 in h1.items():\n",
    "        if n % 100000 == 0:\n",
    "            print('...', n)\n",
    "        if k in h2:\n",
    "            abund2 = h2[k]\n",
    "            if abund1 != abund2:\n",
    "                diff_abund_1[k] = abund1 - abund2\n",
    "        else:\n",
    "            in_1_only[k] = abund1\n",
    "            \n",
    "        n += 1\n",
    "\n",
    "    return in_1_only, diff_abund_1"
   ]
  },
  {
   "cell_type": "code",
   "execution_count": 5,
   "id": "ffaa358d",
   "metadata": {},
   "outputs": [
    {
     "name": "stdout",
     "output_type": "stream",
     "text": [
      "... 0\n",
      "... 100000\n",
      "... 200000\n",
      "... 300000\n",
      "... 400000\n",
      "... 500000\n",
      "... 600000\n",
      "... 700000\n",
      "... 800000\n",
      "... 900000\n",
      "... 0\n",
      "... 100000\n",
      "... 200000\n",
      "... 300000\n",
      "... 400000\n",
      "... 500000\n",
      "... 600000\n",
      "... 700000\n",
      "... 800000\n",
      "... 900000\n"
     ]
    }
   ],
   "source": [
    "in_3_only, diff_abund_3 = find_diff_abund(sig_3.minhash, sig_2.minhash)\n",
    "in_2_only, diff_abund_2 = find_diff_abund(sig_2.minhash, sig_3.minhash)"
   ]
  },
  {
   "cell_type": "markdown",
   "id": "26079d6f",
   "metadata": {},
   "source": [
    "## Estimates of differentially present k-mers"
   ]
  },
  {
   "cell_type": "code",
   "execution_count": 6,
   "id": "ab7dbe3c",
   "metadata": {},
   "outputs": [
    {
     "name": "stdout",
     "output_type": "stream",
     "text": [
      "There are 1711 hashes only present in #3 vs #2\n",
      "(Multiply by 100 to get a close estimate of # of k-mers.)\n"
     ]
    }
   ],
   "source": [
    "print(f\"There are {len(in_3_only)} hashes only present in #3 vs #2\")\n",
    "print(f\"(Multiply by {scaled} to get a close estimate of # of k-mers.)\")"
   ]
  },
  {
   "cell_type": "code",
   "execution_count": 7,
   "id": "714bd59e",
   "metadata": {},
   "outputs": [
    {
     "name": "stdout",
     "output_type": "stream",
     "text": [
      "There are 1849 hashes only present in #2 vs #3\n",
      "(Multiply by 100 to get a close estimate of # of k-mers.)\n"
     ]
    }
   ],
   "source": [
    "print(f\"There are {len(in_2_only)} hashes only present in #2 vs #3\")\n",
    "print(f\"(Multiply by {scaled} to get a close estimate of # of k-mers.)\")"
   ]
  },
  {
   "cell_type": "code",
   "execution_count": 8,
   "id": "5795b2a8",
   "metadata": {},
   "outputs": [
    {
     "name": "stdout",
     "output_type": "stream",
     "text": [
      "There are 1666 hashes present in #3 vs #2 that have different counts\n",
      "(Multiply by 100 to get a close estimate of # of k-mers.)\n"
     ]
    }
   ],
   "source": [
    "print(f\"There are {len(diff_abund_3)} hashes present in #3 vs #2 that have different counts\")\n",
    "print(f\"(Multiply by {scaled} to get a close estimate of # of k-mers.)\")"
   ]
  },
  {
   "cell_type": "markdown",
   "id": "70eef9ce",
   "metadata": {},
   "source": [
    "## K-mers absent in one or the other"
   ]
  },
  {
   "cell_type": "code",
   "execution_count": 9,
   "id": "c961e618",
   "metadata": {},
   "outputs": [],
   "source": [
    "mh = sig_3.minhash.copy_and_clear()\n",
    "for h, count in in_3_only.items():\n",
    "    mh.add_hash(h)\n",
    "        \n",
    "sig = sourmash.SourmashSignature(mh, 'in_3_only')\n",
    "with open('in_3_only.sig', 'wb') as fp:\n",
    "    sourmash.save_signatures([sig], fp, compression=1)"
   ]
  },
  {
   "cell_type": "code",
   "execution_count": 10,
   "id": "26d908d5",
   "metadata": {},
   "outputs": [],
   "source": [
    "mh = sig_3.minhash.copy_and_clear()\n",
    "for h, count in in_2_only.items():\n",
    "    mh.add_hash(h)\n",
    "        \n",
    "sig = sourmash.SourmashSignature(mh, 'in_2_only')\n",
    "with open('in_2_only.sig', 'wb') as fp:\n",
    "    sourmash.save_signatures([sig], fp, compression=1)"
   ]
  },
  {
   "cell_type": "markdown",
   "id": "ad82af9f",
   "metadata": {},
   "source": [
    "## Differentially abundant k-mer counts\n",
    "\n",
    "Here is the distribution of the differences in count number.\n",
    "\n",
    "For example, the output \"2 298\" means that there are 298 k-mers with a count difference of 2 more in #3 than in #2. \"-1 49\" means that there are 49 k-mers with a count difference of 1 less in # than in #2."
   ]
  },
  {
   "cell_type": "code",
   "execution_count": 11,
   "id": "8ca9018b",
   "metadata": {},
   "outputs": [],
   "source": [
    "c = Counter()\n",
    "for k, v in diff_abund_3.items():\n",
    "    c[v] += 1"
   ]
  },
  {
   "cell_type": "code",
   "execution_count": 12,
   "id": "a4a5cde9",
   "metadata": {
    "scrolled": false
   },
   "outputs": [
    {
     "name": "stdout",
     "output_type": "stream",
     "text": [
      "-1762 1\n",
      "-161 1\n",
      "-77 1\n",
      "-71 1\n",
      "-54 1\n",
      "-47 1\n",
      "-41 1\n",
      "-32 1\n",
      "-23 1\n",
      "-22 1\n",
      "-11 1\n",
      "-9 2\n",
      "-8 1\n",
      "-7 3\n",
      "-6 3\n",
      "-5 1\n",
      "-4 7\n",
      "-3 1\n",
      "-2 9\n",
      "-1 49\n",
      "1 749\n",
      "2 298\n",
      "3 84\n",
      "4 27\n",
      "5 22\n",
      "6 17\n",
      "7 39\n",
      "8 12\n",
      "9 10\n",
      "10 14\n",
      "11 11\n",
      "12 6\n",
      "13 1\n",
      "14 5\n",
      "15 4\n",
      "16 4\n",
      "17 9\n",
      "18 4\n",
      "19 4\n",
      "20 4\n",
      "21 5\n",
      "22 2\n",
      "23 3\n",
      "24 4\n",
      "25 5\n",
      "26 5\n",
      "27 3\n",
      "28 4\n",
      "29 3\n",
      "30 1\n",
      "31 4\n",
      "33 1\n",
      "34 4\n",
      "35 1\n",
      "36 1\n",
      "37 1\n",
      "38 2\n",
      "39 1\n",
      "40 4\n",
      "42 27\n",
      "43 58\n",
      "45 2\n",
      "48 1\n",
      "50 2\n",
      "51 1\n",
      "52 1\n",
      "53 2\n",
      "54 3\n",
      "55 1\n",
      "56 2\n",
      "57 1\n",
      "58 1\n",
      "59 2\n",
      "61 1\n",
      "62 1\n",
      "63 3\n",
      "65 1\n",
      "66 2\n",
      "68 2\n",
      "69 2\n",
      "70 1\n",
      "71 1\n",
      "72 1\n",
      "73 1\n",
      "75 3\n",
      "76 1\n",
      "77 3\n",
      "78 1\n",
      "79 2\n",
      "80 2\n",
      "85 2\n",
      "86 3\n",
      "95 1\n",
      "97 2\n",
      "102 2\n",
      "106 1\n",
      "114 1\n",
      "115 1\n",
      "119 1\n",
      "120 1\n",
      "125 1\n",
      "127 1\n",
      "129 1\n",
      "137 1\n",
      "139 1\n",
      "141 1\n",
      "144 1\n",
      "145 1\n",
      "146 1\n",
      "151 1\n",
      "158 1\n",
      "176 1\n",
      "178 1\n",
      "181 1\n",
      "182 1\n",
      "183 1\n",
      "184 1\n",
      "185 1\n",
      "192 1\n",
      "194 1\n",
      "202 1\n",
      "204 1\n",
      "207 1\n",
      "212 1\n",
      "223 1\n",
      "228 1\n",
      "229 1\n",
      "233 1\n",
      "237 1\n",
      "253 1\n",
      "275 1\n",
      "284 1\n",
      "285 1\n",
      "291 1\n",
      "298 1\n",
      "318 1\n",
      "367 1\n",
      "386 1\n",
      "425 1\n",
      "470 1\n",
      "524 1\n",
      "547 1\n",
      "602 1\n",
      "614 1\n",
      "645 1\n",
      "732 1\n",
      "737 1\n",
      "743 1\n",
      "769 1\n",
      "1120 1\n",
      "1155 1\n",
      "1358 1\n",
      "1561 1\n",
      "1714 1\n"
     ]
    }
   ],
   "source": [
    "keys = list(sorted(c.keys()))\n",
    "for k in keys:\n",
    "    print(k, c[k])"
   ]
  },
  {
   "cell_type": "code",
   "execution_count": 13,
   "id": "b7eac1f5",
   "metadata": {},
   "outputs": [
    {
     "data": {
      "text/plain": [
       "(8655532154131, 2)"
      ]
     },
     "execution_count": 13,
     "metadata": {},
     "output_type": "execute_result"
    }
   ],
   "source": [
    "list(diff_abund_3.items())[0]"
   ]
  },
  {
   "cell_type": "code",
   "execution_count": 14,
   "id": "e725e3a2",
   "metadata": {},
   "outputs": [
    {
     "name": "stdout",
     "output_type": "stream",
     "text": [
      "74457073119032237 -1762 2678 916\n",
      "81038444938869519 1561 56 1617\n",
      "159562607389840577 1714 1618 3332\n"
     ]
    }
   ],
   "source": [
    "for h, count in diff_abund_3.items():\n",
    "    if abs(count) > 1500:\n",
    "        print(h, count, sig_2.minhash.hashes[h], sig_3.minhash.hashes[h])"
   ]
  },
  {
   "cell_type": "code",
   "execution_count": 15,
   "id": "3daa83e2",
   "metadata": {},
   "outputs": [],
   "source": [
    "mh = sig_3.minhash.copy_and_clear()\n",
    "for h, count in diff_abund_3.items():\n",
    "    if abs(count) > 1500:\n",
    "        mh.add_hash(h)\n",
    "        \n",
    "sig = sourmash.SourmashSignature(mh, 'extreme')\n",
    "with open('extreme.sig', 'wb') as fp:\n",
    "    sourmash.save_signatures([sig], fp, compression=1)"
   ]
  },
  {
   "cell_type": "code",
   "execution_count": 16,
   "id": "90dacc2d",
   "metadata": {},
   "outputs": [],
   "source": [
    "for h, count in diff_abund_3.items():\n",
    "    if abs(count) > 1500:\n",
    "        mh = sig_3.minhash.copy_and_clear()\n",
    "        mh.add_hash(h)\n",
    "        \n",
    "        sig = sourmash.SourmashSignature(mh, f'{h}')\n",
    "        with open(f'extreme-{h}.sig', 'wb') as fp:\n",
    "            sourmash.save_signatures([sig], fp, compression=1)"
   ]
  },
  {
   "cell_type": "code",
   "execution_count": null,
   "id": "f77936a4",
   "metadata": {},
   "outputs": [],
   "source": []
  }
 ],
 "metadata": {
  "kernelspec": {
   "display_name": "py38arm",
   "language": "python",
   "name": "py38arm"
  },
  "language_info": {
   "codemirror_mode": {
    "name": "ipython",
    "version": 3
   },
   "file_extension": ".py",
   "mimetype": "text/x-python",
   "name": "python",
   "nbconvert_exporter": "python",
   "pygments_lexer": "ipython3",
   "version": "3.8.13"
  }
 },
 "nbformat": 4,
 "nbformat_minor": 5
}
